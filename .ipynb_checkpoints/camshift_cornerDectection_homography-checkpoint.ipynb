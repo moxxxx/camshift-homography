{
 "cells": [
  {
   "cell_type": "code",
   "execution_count": 6,
   "id": "8dbef050",
   "metadata": {},
   "outputs": [],
   "source": [
    "def get_trans(x,y, h):\n",
    "    x_p = (h.item((0,0)) * x + h.item((0,1)) *y + h.item((0,2)) )/(h.item((2,0))* x + h.item((2,1))* y + h.item((2,2)) )\n",
    "    y_p = (h.item((1,0))*x + h.item((1,1))*y + h.item((1,2))      )/(h.item((2,0))*x + h.item((2,1))* y + h.item((2,2)))\n",
    "\n",
    "    return x_p,y_p"
   ]
  },
  {
   "cell_type": "code",
   "execution_count": 8,
   "id": "dc143aaf",
   "metadata": {},
   "outputs": [],
   "source": [
    "def draw(img, x, y, text):\n",
    "    \n",
    "    font = cv2.FONT_HERSHEY_SIMPLEX\n",
    "    if text == 'image1':\n",
    "        #cv2.putText(img, str(x) + ',' + str(y), (x,y), font, 1, (0, 255, 0), 2)\n",
    "        cv2.rectangle(img, (x-4, y-4), (x+4,y+4), (0, 0, 255), 2)\n",
    "    else:\n",
    "        #cv2.putText(img, str(x) + ',' + str(y), (x,y), font, 1, (0, 255, 0), 2)\n",
    "        cv2.rectangle(img, (x-4, y-4), (x+4,y+4), (0, 255, 0), 2)\n",
    "    \n",
    "    \n",
    "    \n",
    "    cv2.imshow(text, img)"
   ]
  },
  {
   "cell_type": "code",
   "execution_count": 9,
   "id": "7fe75b6d",
   "metadata": {},
   "outputs": [],
   "source": [
    "import matplotlib.pyplot as plt\n",
    "def imshowBGR(im):\n",
    "  img = cv2.cvtColor(im, cv2.COLOR_BGR2RGB)\n",
    "  plt.figure(figsize=(7,7))\n",
    "  plt.imshow(img)\n",
    "  plt.axis('off')\n",
    "  return\n",
    "\n",
    "def imshowGray(gray):\n",
    "  plt.figure(figsize=(7,7))\n",
    "  plt.imshow(gray, cmap='gray')\n",
    "  plt.axis('off')\n",
    "  return  "
   ]
  },
  {
   "cell_type": "code",
   "execution_count": 10,
   "id": "3002a002",
   "metadata": {},
   "outputs": [],
   "source": [
    "import numpy as np\n",
    "def homo_est(xs, ys, us, vs):\n",
    "    [x1,x2,x3,x4,x5,x6] = xs[:6]\n",
    "    [y1,y2,y3,y4,y5,y6] = ys[:6]\n",
    "    [u1,u2,u3,u4,u5,u6] = us[:6]\n",
    "    [v1,v2,v3,v4,v5,v6] = vs[:6]\n",
    "    A = [\n",
    "        [x1,y1,1,0,0,0,-u1*x1, -u1*y1,-u1],\n",
    "        [0,0,0,x1,y1,1,-v1*x1, -v1*y1,-v1],\n",
    "        [x2,y2,1,0,0,0,-u2*x2, -u2*y2,-u2],\n",
    "        [0,0,0,x2,y2,1,-v2*x2, -v2*y2,-v2],\n",
    "        [x3,y3,1,0,0,0,-u3*x3, -u3*y3,-u3],\n",
    "        [0,0,0,x3,y3,1,-v3*x3, -v3*y3,-v3],\n",
    "        [x4,y4,1,0,0,0,-u4*x4, -u4*y4,-u4],\n",
    "        [0,0,0,x4,y4,1,-v4*x4, -v4*y4,-v4],\n",
    "        [x5,y5,1,0,0,0,-u5*x5, -u5*y5,-u5],\n",
    "        [0,0,0,x5,y5,1,-v5*x5, -v5*y5,-v5],\n",
    "        [x6,y6,1,0,0,0,-u6*x6, -u6*y6,-u6],\n",
    "        [0,0,0,x6,y6,1,-v6*x6, -v6*y6,-v6]\n",
    "    ]\n",
    "    A = np.asmatrix(A)\n",
    "    zeros = np.zeros((8, 1))\n",
    "    U, s, V = np.linalg.svd(A, full_matrices=True)\n",
    "    L = V[-1,:] / V[-1,-1]\n",
    "    H = L.reshape(3, 3)\n",
    "    return H\n",
    "    "
   ]
  },
  {
   "cell_type": "code",
   "execution_count": 12,
   "id": "60033669",
   "metadata": {},
   "outputs": [
    {
     "data": {
      "text/plain": [
       "array([[ 1.66463304e+00,  1.30083616e-01, -5.11271764e+02],\n",
       "       [ 1.58901584e-01,  1.39603216e+00,  2.66556178e+02],\n",
       "       [ 3.65624572e-04,  6.53717462e-05,  1.00000000e+00]])"
      ]
     },
     "execution_count": 12,
     "metadata": {},
     "output_type": "execute_result"
    }
   ],
   "source": [
    "h1 = np.array(\n",
    "[[ 1.66463304e+00,  1.30083616e-01, -5.11271764e+02],\n",
    " [ 1.58901584e-01,  1.39603216e+00,  2.66556178e+02],\n",
    " [ 3.65624572e-04,  6.53717462e-05,  1.00000000e+00]]\n",
    ")\n",
    "h1"
   ]
  },
  {
   "cell_type": "code",
   "execution_count": 13,
   "id": "9d6d560f",
   "metadata": {},
   "outputs": [],
   "source": [
    "h2 = np.array(\n",
    "[[ 1.36440083e-01, -1.24675808e-01,  5.01888652e+02],\n",
    " [-1.33071281e-01,  6.11215919e-01,  2.73175607e+02],\n",
    " [-2.88240034e-04, -1.74171098e-04,  1.00000000e+00],]\n",
    ")"
   ]
  },
  {
   "cell_type": "code",
   "execution_count": 14,
   "id": "eb01d5ee",
   "metadata": {},
   "outputs": [],
   "source": [
    "h3 = np.array(\n",
    "[[-1.55367713e-02,  4.16352338e-01,  3.65540719e+02],\n",
    " [-8.71388825e-01,  1.55905057e+00,  3.44183913e+02],\n",
    " [-1.18951583e-03,  1.14023156e-03,  1.00000000e+00]]\n",
    ")"
   ]
  },
  {
   "cell_type": "markdown",
   "id": "9c61daea",
   "metadata": {},
   "source": [
    "# Make a figure showing a new image that is larger than the original one(s).\n",
    "The new image should be large enough that it contains the pixels of the I image as a\n",
    "subset, along with all the inverse mapped pixels of the eI image. The new image should\n",
    "be constructed as follows"
   ]
  },
  {
   "cell_type": "code",
   "execution_count": 24,
   "id": "0a570aaf",
   "metadata": {},
   "outputs": [],
   "source": [
    "case = 'C'\n",
    "if case == 'A':\n",
    "    h = h1\n",
    "    img1 = cv2.imread('hallway1.jpg', 1)\n",
    "    img2 = cv2.imread('hallway2.jpg', 1)\n",
    "elif case == 'B':\n",
    "    h = h2\n",
    "    img1 = cv2.imread('hallway1.jpg', 1)\n",
    "    img2 = cv2.imread('hallway3.jpg', 1)\n",
    "elif case == 'C':\n",
    "    h = h3\n",
    "    img1 = cv2.imread('hallway1.jpg', 1)\n",
    "    img2 = cv2.imread('hallway3.jpg', 1)"
   ]
  },
  {
   "cell_type": "code",
   "execution_count": 25,
   "id": "e024dc9e",
   "metadata": {},
   "outputs": [],
   "source": [
    "canvas = np.zeros((1800,2800,3), np.uint8)\n",
    "x_offset=y_offset=500"
   ]
  },
  {
   "cell_type": "code",
   "execution_count": 26,
   "id": "fda5e9cb",
   "metadata": {},
   "outputs": [],
   "source": [
    "def canvas_coor(canvas, img):\n",
    "    canvas[y_offset:y_offset+img.shape[0], x_offset:x_offset+img.shape[1]][:,:,2]= cv2.cvtColor(img, cv2.COLOR_BGR2GRAY)"
   ]
  },
  {
   "cell_type": "code",
   "execution_count": 27,
   "id": "5a2445ef",
   "metadata": {},
   "outputs": [],
   "source": [
    "canvas_coor(canvas, img1)"
   ]
  },
  {
   "cell_type": "code",
   "execution_count": 28,
   "id": "af95800e",
   "metadata": {},
   "outputs": [
    {
     "data": {
      "image/png": "[encoded data removed]",
      "text/plain": [
       "<Figure size 700x700 with 1 Axes>"
      ]
     },
     "metadata": {},
     "output_type": "display_data"
    }
   ],
   "source": [
    "imshowBGR(canvas)"
   ]
  },
  {
   "cell_type": "code",
   "execution_count": 29,
   "id": "f103573d",
   "metadata": {},
   "outputs": [],
   "source": [
    "gray2 = cv2.cvtColor(img2, cv2.COLOR_BGR2GRAY)"
   ]
  },
  {
   "cell_type": "code",
   "execution_count": 30,
   "id": "016c8e1f",
   "metadata": {},
   "outputs": [],
   "source": [
    "def get_trans(x,y, h):\n",
    "    x_p = (h[0,0] * x + h[0,1] *y + h[0,2] )/(h[2,0]* x + h[2,1]* y + h[2,2])\n",
    "    y_p = (h[1,0]*x + h[1,1]*y + h[1,2])/(h[2,0]*x + h[2,1]* y + h[2,2])\n",
    "\n",
    "    return x_p,y_p"
   ]
  },
  {
   "cell_type": "code",
   "execution_count": 31,
   "id": "de999ad4",
   "metadata": {},
   "outputs": [],
   "source": [
    "for i in range(canvas.shape[0]):\n",
    "    for j in range(canvas.shape[1]):\n",
    "        x1, y1 = get_trans(j-x_offset,i-y_offset, h)\n",
    "        x1 = int(x1)\n",
    "        y1 = int(y1)\n",
    "        if 0<=x1 and x1<img2.shape[1] and 0<=y1 and y1<img2.shape[0]:\n",
    "            #is in the img2 domain!\n",
    "            canvas[i][j][0] = gray2[y1][x1]\n",
    "            canvas[i][j][1] = gray2[y1][x1]"
   ]
  },
  {
   "cell_type": "code",
   "execution_count": 4,
   "id": "ce39a4c9",
   "metadata": {},
   "outputs": [],
   "source": [
    "import numpy as np\n",
    "import cv2 as cv\n",
    "filename = 'test.png'\n",
    "y_p, x_p = 382,765\n",
    "y_offset =  x_offset = 10\n",
    "img = cv.imread(filename)[x_p-x_offset:x_p+x_offset, y_p-y_offset:y_p+y_offset]\n",
    "my_img = cv.imread(filename)\n",
    "#img = cv.imread(filename)\n",
    "gray = cv.cvtColor(img,cv.COLOR_BGR2GRAY)\n",
    "gray = np.float32(gray)\n",
    "my_img = cv.imread(filename)\n"
   ]
  },
  {
   "cell_type": "code",
   "execution_count": 2,
   "id": "c0d7d8f4",
   "metadata": {},
   "outputs": [],
   "source": [
    "cap = cv2.VideoCapture(\"KandinskyBook.mp4\") # video\n",
    "\n",
    "\n",
    "# capture one frame\n",
    "ret,frame = cap.read()\n",
    "gray = cv2.cvtColor(frame,cv2.COLOR_BGR2GRAY)"
   ]
  },
  {
   "cell_type": "code",
   "execution_count": 3,
   "id": "f8ab0bad",
   "metadata": {},
   "outputs": [
    {
     "data": {
      "text/plain": [
       "27"
      ]
     },
     "execution_count": 3,
     "metadata": {},
     "output_type": "execute_result"
    }
   ],
   "source": [
    "cv2.imshow('dst',gray)\n",
    "cv2.setMouseCallback('dst', click_event3)\n",
    "cv2.waitKey(0)"
   ]
  },
  {
   "cell_type": "markdown",
   "id": "f6cf341c",
   "metadata": {},
   "source": [
    "image\n"
   ]
  },
  {
   "cell_type": "code",
   "execution_count": 1,
   "id": "615d385d",
   "metadata": {},
   "outputs": [],
   "source": [
    "import numpy as np\n",
    "import cv2 as cv\n",
    "\n",
    "\n",
    "def find_corner(y_p, x_p, frame):\n",
    "    y_offset =9\n",
    "    x_offset =12\n",
    "    y_new = 0\n",
    "    x_new = 0\n",
    "    \n",
    "    window = frame[y_p-y_offset:y_p+y_offset, x_p-x_offset:x_p+x_offset]\n",
    "\n",
    "    gray = cv.cvtColor(window,cv.COLOR_BGR2GRAY)\n",
    "    #gray = np.float32(gray)\n",
    "\n",
    "    corners = cv.goodFeaturesToTrack(gray,1,0.0015,5)\n",
    "    corners = np.intp(corners)\n",
    "    for i in corners:\n",
    "        x,y = i.ravel()\n",
    "        #new_frame[y + y_p-y_offset - 6 :y + y_p-y_offset +6, x+ x_p-x_offset -6:x+ x_p-x_offset +6 ]=[0,0,255]\n",
    "        #new_frame = cv.circle(new_frame,(x+ x_p-x_offset ,y + y_p-y_offset),3,255,-1)\n",
    "        y_new = y + y_p-y_offset\n",
    "        x_new = x+ x_p-x_offset\n",
    "    \n",
    "    \"\"\"\n",
    "    dst = cv.cornerHarris(gray,2,3,0.04)\n",
    "    #result is dilated for marking the corners, not important\n",
    "    dst = cv.dilate(dst,None)\n",
    "    # Threshold for an optimal value, it may vary depending on the image.\n",
    "    my = dst>0.1*dst.max()\n",
    "    \n",
    "    for y in range(gray.shape[0]):\n",
    "        for x in range(gray.shape[1]):\n",
    "            if my[y][x]:\n",
    "                #frame = cv.circle(frame, (x_p + x-x_offset,y_p+y-y_offset), 100, (0, 0, 255), 10)\n",
    "                new_frame[x_p+x-x_offset][y_p+y-y_offset] = [0,0,255]\n",
    "                #frame[x_p + x-20:x_p + x+20,y_p + y-20:y_p + y+20]=[0,0,0]\n",
    "                y_new = y_p+y-y_offset\n",
    "                x_new = x_p+x-x_offset\n",
    "    \"\"\"\n",
    "    return y_new, x_new #, new_frame\n",
    "\n",
    "\n"
   ]
  },
  {
   "cell_type": "code",
   "execution_count": 2,
   "id": "5ed3c7fe",
   "metadata": {},
   "outputs": [],
   "source": [
    "\n",
    "def get_trans(x,y, h):\n",
    "    x_p = (h[0,0] * x + h[0,1] *y + h[0,2] )/(h[2,0]* x + h[2,1]* y + h[2,2])\n",
    "    y_p = (h[1,0]*x + h[1,1]*y + h[1,2])/(h[2,0]*x + h[2,1]* y + h[2,2])\n",
    "\n",
    "    return x_p,y_p"
   ]
  },
  {
   "cell_type": "code",
   "execution_count": 3,
   "id": "e81a2cba",
   "metadata": {},
   "outputs": [],
   "source": [
    "def grey(img1):\n",
    "    down = 40\n",
    "    B,G,R = cv2.split(img1)\n",
    "    grey =0.2989 *R + 0.5870 *G + 0.1140 *B\n",
    "    img1[:,:,0] = grey-down# get blue channel\n",
    "    img1[:,:,1] = grey-down # get green channel\n",
    "    img1[:,:,2] = grey-down  # get red channel\n",
    "    return img1"
   ]
  },
  {
   "cell_type": "code",
   "execution_count": 4,
   "id": "e19eda5c",
   "metadata": {},
   "outputs": [
    {
     "name": "stderr",
     "output_type": "stream",
     "text": [
      "[ERROR:0@1.474] global cap.cpp:597 open VIDEOIO(CV_IMAGES): raised OpenCV exception:\n",
      "\n",
      "OpenCV(4.7.0) /private/var/folders/qx/953trp_56zs_kg4jq_5138gm0000gn/T/pip-install-7gkqnbkl/opencv-python_29b16a6fc84f41dc8ae76a97b840b22d/opencv/modules/videoio/src/cap_images.cpp:253: error: (-5:Bad argument) CAP_IMAGES: can't find starting number (in the name of file): yumi_F.avi in function 'icvExtractPattern'\n",
      "\n",
      "\n"
     ]
    }
   ],
   "source": [
    "import cv2\n",
    "cap = cv2.VideoCapture(\"KandinskyBook.mp4\") # video\n",
    "\n",
    "\n",
    "# capture one frame\n",
    "ret,frame = cap.read()\n",
    "\n",
    "width = int(cap.get(cv2.CAP_PROP_FRAME_WIDTH)+0.5) \n",
    "height = int(cap.get(cv2.CAP_PROP_FRAME_HEIGHT)+0.5)\n",
    "\n",
    "x_list = [207,379,382,205]\n",
    "y_list = [542,540,765,768]\n",
    "\n",
    "yumi = cv2.imread('yumi.jpg')\n",
    "yumi = grey(yumi)\n",
    "yumi_points = np.array([(0,0), (743,0),(743,887),(0, 887)])\n",
    "\n",
    "fps = int(cap.get(cv2.CAP_PROP_FPS)) \n",
    "out = cv2.VideoWriter('yumi_F.avi',cv2.VideoWriter_fourcc(*'MJPG'), fps, (width,height))\n"
   ]
  },
  {
   "cell_type": "code",
   "execution_count": 5,
   "id": "08190aae",
   "metadata": {},
   "outputs": [],
   "source": [
    "\n",
    "while True:\n",
    "    # grab a frame\n",
    "    ret,frame = cap.read() \n",
    "    \n",
    "    if ret == True: \n",
    "        new_frame = frame.copy()\n",
    "        new_x_list =[]\n",
    "        new_y_list =[]\n",
    "        for x_p, y_p in zip(x_list, y_list):\n",
    "            y_p, x_p = find_corner(y_p, x_p, frame)\n",
    "            new_x_list.append(x_p)\n",
    "            new_y_list.append(y_p)\n",
    "            #new_frame[y_p - 6 :y_p + 6, x_p-6: x_p+6 ]=[0,0,255]\n",
    "        #cv2.imshow('cam shift tracking demo',new_frame)\n",
    "        x_list = new_x_list\n",
    "        y_list = new_y_list\n",
    "        \n",
    "        \n",
    "        \n",
    "        \n",
    "        pts_dst = np.array(list(zip(x_list,y_list)))\n",
    "        h, status = cv2.findHomography(yumi_points, pts_dst)\n",
    "        for y in range(yumi.shape[0]):\n",
    "            for x in range(yumi.shape[1]):\n",
    "                x_p, y_p = get_trans(x,y, h)\n",
    "                y_p = int(y_p)\n",
    "                x_p = int(x_p)\n",
    "                new_frame[y_p,x_p] = yumi[y,x]\n",
    "        cv2.imshow('cam shift tracking demo',new_frame)\n",
    "        \n",
    "        out.write(new_frame)\n",
    "        \n",
    "        #cv2.imshow('cam shift tracking demo',frame)\n",
    "        if cv2.waitKey(30) & 0xFF == 27: # wait 1 ms and exit is ESC is pressed\n",
    "            break\n",
    "        \n",
    "    else:\n",
    "        break\n",
    "\n",
    "cap.release()\n",
    "out.release()\n",
    "cv2.destroyAllWindows()"
   ]
  },
  {
   "cell_type": "code",
   "execution_count": null,
   "id": "ea99973a",
   "metadata": {},
   "outputs": [],
   "source": [
    "\n",
    "\n",
    "import cv2\n",
    "yumi = cv2.imread('yumi.jpg')\n",
    "import matplotlib as plt\n",
    "def grey(img1):\n",
    "    down = 40\n",
    "    B,G,R = cv2.split(img1)\n",
    "    grey =0.2989 *R + 0.5870 *G + 0.1140 *B\n",
    "    img1[:,:,0] = grey-down# get blue channel\n",
    "    img1[:,:,1] = grey-down # get green channel\n",
    "    img1[:,:,2] = grey-down  # get red channel\n",
    "    return img1\n",
    "\n",
    "cv2.imshow('cam shift tracking demo',grey(yumi))\n",
    "# displaying the image\n",
    " \n",
    "# Waits for a keystroke\n",
    "cv2.waitKey(0)  \n",
    " \n",
    "# Destroys all the windows created\n",
    "#cv2.destroyAllwindows() "
   ]
  },
  {
   "cell_type": "code",
   "execution_count": null,
   "id": "98cf0877",
   "metadata": {},
   "outputs": [],
   "source": []
  }
 ],
 "metadata": {
  "kernelspec": {
   "display_name": "Python 3 (ipykernel)",
   "language": "python",
   "name": "python3"
  },
  "language_info": {
   "codemirror_mode": {
    "name": "ipython",
    "version": 3
   },
   "file_extension": ".py",
   "mimetype": "text/x-python",
   "name": "python",
   "nbconvert_exporter": "python",
   "pygments_lexer": "ipython3",
   "version": "3.10.8"
  }
 },
 "nbformat": 4,
 "nbformat_minor": 5
}
