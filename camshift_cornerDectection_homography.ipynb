{
 "cells": [
  {
   "cell_type": "markdown",
   "id": "f6cf341c",
   "metadata": {},
   "source": [
    "image\n"
   ]
  },
  {
   "cell_type": "code",
   "execution_count": 1,
   "id": "615d385d",
   "metadata": {},
   "outputs": [],
   "source": [
    "import numpy as np\n",
    "import cv2 as cv\n",
    "\n",
    "\n",
    "def find_corner(y_p, x_p, frame):\n",
    "    y_offset =9\n",
    "    x_offset =12\n",
    "    y_new = 0\n",
    "    x_new = 0\n",
    "    \n",
    "    window = frame[y_p-y_offset:y_p+y_offset, x_p-x_offset:x_p+x_offset]\n",
    "\n",
    "    gray = cv.cvtColor(window,cv.COLOR_BGR2GRAY)\n",
    "    #gray = np.float32(gray)\n",
    "\n",
    "    corners = cv.goodFeaturesToTrack(gray,1,0.0015,5)\n",
    "    corners = np.intp(corners)\n",
    "    for i in corners:\n",
    "        x,y = i.ravel()\n",
    "        #new_frame[y + y_p-y_offset - 6 :y + y_p-y_offset +6, x+ x_p-x_offset -6:x+ x_p-x_offset +6 ]=[0,0,255]\n",
    "        #new_frame = cv.circle(new_frame,(x+ x_p-x_offset ,y + y_p-y_offset),3,255,-1)\n",
    "        y_new = y + y_p-y_offset\n",
    "        x_new = x+ x_p-x_offset\n",
    "    \n",
    "    \"\"\"\n",
    "    dst = cv.cornerHarris(gray,2,3,0.04)\n",
    "    #result is dilated for marking the corners, not important\n",
    "    dst = cv.dilate(dst,None)\n",
    "    # Threshold for an optimal value, it may vary depending on the image.\n",
    "    my = dst>0.1*dst.max()\n",
    "    \n",
    "    for y in range(gray.shape[0]):\n",
    "        for x in range(gray.shape[1]):\n",
    "            if my[y][x]:\n",
    "                #frame = cv.circle(frame, (x_p + x-x_offset,y_p+y-y_offset), 100, (0, 0, 255), 10)\n",
    "                new_frame[x_p+x-x_offset][y_p+y-y_offset] = [0,0,255]\n",
    "                #frame[x_p + x-20:x_p + x+20,y_p + y-20:y_p + y+20]=[0,0,0]\n",
    "                y_new = y_p+y-y_offset\n",
    "                x_new = x_p+x-x_offset\n",
    "    \"\"\"\n",
    "    return y_new, x_new #, new_frame\n",
    "\n",
    "\n"
   ]
  },
  {
   "cell_type": "code",
   "execution_count": 2,
   "id": "5ed3c7fe",
   "metadata": {},
   "outputs": [],
   "source": [
    "\n",
    "def get_trans(x,y, h):\n",
    "    x_p = (h[0,0] * x + h[0,1] *y + h[0,2] )/(h[2,0]* x + h[2,1]* y + h[2,2])\n",
    "    y_p = (h[1,0]*x + h[1,1]*y + h[1,2])/(h[2,0]*x + h[2,1]* y + h[2,2])\n",
    "\n",
    "    return x_p,y_p"
   ]
  },
  {
   "cell_type": "code",
   "execution_count": 3,
   "id": "e81a2cba",
   "metadata": {},
   "outputs": [],
   "source": [
    "def grey(img1):\n",
    "    down = 40\n",
    "    B,G,R = cv2.split(img1)\n",
    "    grey =0.2989 *R + 0.5870 *G + 0.1140 *B\n",
    "    img1[:,:,0] = grey-down# get blue channel\n",
    "    img1[:,:,1] = grey-down # get green channel\n",
    "    img1[:,:,2] = grey-down  # get red channel\n",
    "    return img1"
   ]
  },
  {
   "cell_type": "code",
   "execution_count": 4,
   "id": "e19eda5c",
   "metadata": {},
   "outputs": [
    {
     "name": "stderr",
     "output_type": "stream",
     "text": [
      "[ERROR:0@2.387] global cap.cpp:597 open VIDEOIO(CV_IMAGES): raised OpenCV exception:\n",
      "\n",
      "OpenCV(4.7.0) /private/var/folders/qx/953trp_56zs_kg4jq_5138gm0000gn/T/pip-install-7gkqnbkl/opencv-python_29b16a6fc84f41dc8ae76a97b840b22d/opencv/modules/videoio/src/cap_images.cpp:253: error: (-5:Bad argument) CAP_IMAGES: can't find starting number (in the name of file): yumi_F.avi in function 'icvExtractPattern'\n",
      "\n",
      "\n"
     ]
    }
   ],
   "source": [
    "import cv2\n",
    "cap = cv2.VideoCapture(\"KandinskyBook.mp4\") # video\n",
    "\n",
    "\n",
    "# capture one frame\n",
    "ret,frame = cap.read()\n",
    "\n",
    "width = int(cap.get(cv2.CAP_PROP_FRAME_WIDTH)+0.5) \n",
    "height = int(cap.get(cv2.CAP_PROP_FRAME_HEIGHT)+0.5)\n",
    "\n",
    "x_list = [207,379,382,205]\n",
    "y_list = [542,540,765,768]\n",
    "\n",
    "yumi = cv2.imread('yumi.jpg')\n",
    "yumi = grey(yumi)\n",
    "yumi_points = np.array([(0,0), (743,0),(743,887),(0, 887)])\n",
    "\n",
    "fps = int(cap.get(cv2.CAP_PROP_FPS)) \n",
    "out = cv2.VideoWriter('yumi_F.avi',cv2.VideoWriter_fourcc(*'MJPG'), fps, (width,height))\n"
   ]
  },
  {
   "cell_type": "code",
   "execution_count": null,
   "id": "08190aae",
   "metadata": {},
   "outputs": [],
   "source": [
    "\n",
    "while True:\n",
    "    # grab a frame\n",
    "    ret,frame = cap.read() \n",
    "    \n",
    "    if ret == True: \n",
    "        new_frame = frame.copy()\n",
    "        new_x_list =[]\n",
    "        new_y_list =[]\n",
    "        for x_p, y_p in zip(x_list, y_list):\n",
    "            y_p, x_p = find_corner(y_p, x_p, frame)\n",
    "            new_x_list.append(x_p)\n",
    "            new_y_list.append(y_p)\n",
    "            #new_frame[y_p - 6 :y_p + 6, x_p-6: x_p+6 ]=[0,0,255]\n",
    "        #cv2.imshow('cam shift tracking demo',new_frame)\n",
    "        x_list = new_x_list\n",
    "        y_list = new_y_list\n",
    "        \n",
    "        \n",
    "        \n",
    "        \n",
    "        pts_dst = np.array(list(zip(x_list,y_list)))\n",
    "        h, status = cv2.findHomography(yumi_points, pts_dst)\n",
    "        for y in range(yumi.shape[0]):\n",
    "            for x in range(yumi.shape[1]):\n",
    "                x_p, y_p = get_trans(x,y, h)\n",
    "                y_p = int(y_p)\n",
    "                x_p = int(x_p)\n",
    "                new_frame[y_p,x_p] = yumi[y,x]\n",
    "        cv2.imshow('cam shift tracking demo',new_frame)\n",
    "        \n",
    "        out.write(new_frame)\n",
    "        \n",
    "        #cv2.imshow('cam shift tracking demo',frame)\n",
    "        if cv2.waitKey(30) & 0xFF == 27: # wait 1 ms and exit is ESC is pressed\n",
    "            break\n",
    "        \n",
    "    else:\n",
    "        break\n",
    "\n",
    "cap.release()\n",
    "out.release()\n",
    "cv2.destroyAllWindows()"
   ]
  },
  {
   "cell_type": "code",
   "execution_count": null,
   "id": "98cf0877",
   "metadata": {},
   "outputs": [],
   "source": []
  }
 ],
 "metadata": {
  "kernelspec": {
   "display_name": "Python 3 (ipykernel)",
   "language": "python",
   "name": "python3"
  },
  "language_info": {
   "codemirror_mode": {
    "name": "ipython",
    "version": 3
   },
   "file_extension": ".py",
   "mimetype": "text/x-python",
   "name": "python",
   "nbconvert_exporter": "python",
   "pygments_lexer": "ipython3",
   "version": "3.10.8"
  }
 },
 "nbformat": 4,
 "nbformat_minor": 5
}
